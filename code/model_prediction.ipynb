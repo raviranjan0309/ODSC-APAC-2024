{
  "cells": [
    {
      "cell_type": "code",
      "execution_count": 3,
      "metadata": {
        "colab": {
          "base_uri": "https://localhost:8080/"
        },
        "id": "vnl8G4jhOn0N",
        "outputId": "6ca7454e-2309-4283-80c5-9c362fe3d58d"
      },
      "outputs": [
        {
          "name": "stdout",
          "output_type": "stream",
          "text": [
            "Requirement already satisfied: torch_geometric in /Users/ravranja6/opt/anaconda3/envs/langchain-1/lib/python3.11/site-packages (2.5.3)\n",
            "Collecting torch\n",
            "  Using cached torch-2.2.2-cp311-none-macosx_10_9_x86_64.whl.metadata (25 kB)\n",
            "Requirement already satisfied: tqdm in /Users/ravranja6/opt/anaconda3/envs/langchain-1/lib/python3.11/site-packages (from torch_geometric) (4.66.2)\n",
            "Requirement already satisfied: numpy in /Users/ravranja6/opt/anaconda3/envs/langchain-1/lib/python3.11/site-packages (from torch_geometric) (1.26.4)\n",
            "Requirement already satisfied: scipy in /Users/ravranja6/opt/anaconda3/envs/langchain-1/lib/python3.11/site-packages (from torch_geometric) (1.12.0)\n",
            "Requirement already satisfied: fsspec in /Users/ravranja6/opt/anaconda3/envs/langchain-1/lib/python3.11/site-packages (from torch_geometric) (2024.6.1)\n",
            "Requirement already satisfied: jinja2 in /Users/ravranja6/opt/anaconda3/envs/langchain-1/lib/python3.11/site-packages (from torch_geometric) (3.1.4)\n",
            "Requirement already satisfied: aiohttp in /Users/ravranja6/opt/anaconda3/envs/langchain-1/lib/python3.11/site-packages (from torch_geometric) (3.9.3)\n",
            "Requirement already satisfied: requests in /Users/ravranja6/opt/anaconda3/envs/langchain-1/lib/python3.11/site-packages (from torch_geometric) (2.31.0)\n",
            "Requirement already satisfied: pyparsing in /Users/ravranja6/opt/anaconda3/envs/langchain-1/lib/python3.11/site-packages (from torch_geometric) (3.1.2)\n",
            "Requirement already satisfied: scikit-learn in /Users/ravranja6/opt/anaconda3/envs/langchain-1/lib/python3.11/site-packages (from torch_geometric) (1.5.1)\n",
            "Requirement already satisfied: psutil>=5.8.0 in /Users/ravranja6/opt/anaconda3/envs/langchain-1/lib/python3.11/site-packages (from torch_geometric) (5.9.8)\n",
            "Collecting filelock (from torch)\n",
            "  Using cached filelock-3.15.4-py3-none-any.whl.metadata (2.9 kB)\n",
            "Requirement already satisfied: typing-extensions>=4.8.0 in /Users/ravranja6/opt/anaconda3/envs/langchain-1/lib/python3.11/site-packages (from torch) (4.10.0)\n",
            "Collecting sympy (from torch)\n",
            "  Downloading sympy-1.13.2-py3-none-any.whl.metadata (12 kB)\n",
            "Requirement already satisfied: networkx in /Users/ravranja6/opt/anaconda3/envs/langchain-1/lib/python3.11/site-packages (from torch) (3.3)\n",
            "Requirement already satisfied: aiosignal>=1.1.2 in /Users/ravranja6/opt/anaconda3/envs/langchain-1/lib/python3.11/site-packages (from aiohttp->torch_geometric) (1.3.1)\n",
            "Requirement already satisfied: attrs>=17.3.0 in /Users/ravranja6/opt/anaconda3/envs/langchain-1/lib/python3.11/site-packages (from aiohttp->torch_geometric) (23.2.0)\n",
            "Requirement already satisfied: frozenlist>=1.1.1 in /Users/ravranja6/opt/anaconda3/envs/langchain-1/lib/python3.11/site-packages (from aiohttp->torch_geometric) (1.4.1)\n",
            "Requirement already satisfied: multidict<7.0,>=4.5 in /Users/ravranja6/opt/anaconda3/envs/langchain-1/lib/python3.11/site-packages (from aiohttp->torch_geometric) (6.0.5)\n",
            "Requirement already satisfied: yarl<2.0,>=1.0 in /Users/ravranja6/opt/anaconda3/envs/langchain-1/lib/python3.11/site-packages (from aiohttp->torch_geometric) (1.9.4)\n",
            "Requirement already satisfied: MarkupSafe>=2.0 in /Users/ravranja6/opt/anaconda3/envs/langchain-1/lib/python3.11/site-packages (from jinja2->torch_geometric) (2.1.5)\n",
            "Requirement already satisfied: charset-normalizer<4,>=2 in /Users/ravranja6/opt/anaconda3/envs/langchain-1/lib/python3.11/site-packages (from requests->torch_geometric) (3.3.2)\n",
            "Requirement already satisfied: idna<4,>=2.5 in /Users/ravranja6/opt/anaconda3/envs/langchain-1/lib/python3.11/site-packages (from requests->torch_geometric) (3.6)\n",
            "Requirement already satisfied: urllib3<3,>=1.21.1 in /Users/ravranja6/opt/anaconda3/envs/langchain-1/lib/python3.11/site-packages (from requests->torch_geometric) (2.2.1)\n",
            "Requirement already satisfied: certifi>=2017.4.17 in /Users/ravranja6/opt/anaconda3/envs/langchain-1/lib/python3.11/site-packages (from requests->torch_geometric) (2024.2.2)\n",
            "Requirement already satisfied: joblib>=1.2.0 in /Users/ravranja6/opt/anaconda3/envs/langchain-1/lib/python3.11/site-packages (from scikit-learn->torch_geometric) (1.4.2)\n",
            "Requirement already satisfied: threadpoolctl>=3.1.0 in /Users/ravranja6/opt/anaconda3/envs/langchain-1/lib/python3.11/site-packages (from scikit-learn->torch_geometric) (3.5.0)\n",
            "Collecting mpmath<1.4,>=1.1.0 (from sympy->torch)\n",
            "  Using cached mpmath-1.3.0-py3-none-any.whl.metadata (8.6 kB)\n",
            "Using cached torch-2.2.2-cp311-none-macosx_10_9_x86_64.whl (150.8 MB)\n",
            "Using cached filelock-3.15.4-py3-none-any.whl (16 kB)\n",
            "Downloading sympy-1.13.2-py3-none-any.whl (6.2 MB)\n",
            "\u001b[2K   \u001b[90m━━━━━━━━━━━━━━━━━━━━━━━━━━━━━━━━━━━━━━━━\u001b[0m \u001b[32m6.2/6.2 MB\u001b[0m \u001b[31m17.9 MB/s\u001b[0m eta \u001b[36m0:00:00\u001b[0ma \u001b[36m0:00:01\u001b[0m\n",
            "\u001b[?25hUsing cached mpmath-1.3.0-py3-none-any.whl (536 kB)\n",
            "Installing collected packages: mpmath, sympy, filelock, torch\n",
            "Successfully installed filelock-3.15.4 mpmath-1.3.0 sympy-1.13.2 torch-2.2.2\n"
          ]
        }
      ],
      "source": [
        "!pip install torch_geometric torch\n"
      ]
    },
    {
      "cell_type": "code",
      "execution_count": 1,
      "metadata": {},
      "outputs": [],
      "source": [
        "import pandas as pd\n",
        "from datetime import datetime\n",
        "import torch\n",
        "import torch.nn as nn\n",
        "from torch_geometric.nn import HeteroConv, GATConv, SAGEConv\n",
        "from torch_geometric.data import HeteroData"
      ]
    },
    {
      "cell_type": "code",
      "execution_count": 2,
      "metadata": {},
      "outputs": [],
      "source": [
        "# Load the HeteroData object from the file\n",
        "data = torch.load('hetero_data_final.pt')"
      ]
    },
    {
      "cell_type": "code",
      "execution_count": 3,
      "metadata": {},
      "outputs": [],
      "source": [
        "class GNNModel(nn.Module):\n",
        "    def __init__(self, hidden_dim, num_layers):\n",
        "        super(GNNModel, self).__init__()\n",
        "        self.conv = torch.nn.ModuleList()\n",
        "        for _ in range(num_layers):\n",
        "            conv = HeteroConv({\n",
        "                ('user', 'has_searched', 'destination'): GATConv((-1, -1), hidden_dim, add_self_loops=False),\n",
        "                ('destination', 'has_hotel', 'hotel'): SAGEConv((-1, -1), hidden_dim),\n",
        "            }, aggr='sum')\n",
        "            self.conv.append(conv)\n",
        "\n",
        "    def forward(self, data):\n",
        "        for conv in self.conv:\n",
        "            x_dict = {key: value.to(torch.float32) for key, value in data.x_dict.items()}\n",
        "            edge_index_dict = {key: value.to(torch.long) for key, value in data.edge_index_dict.items()}\n",
        "            x_dict = conv(x_dict, edge_index_dict)\n",
        "        return x_dict['hotel']"
      ]
    },
    {
      "cell_type": "code",
      "execution_count": 4,
      "metadata": {},
      "outputs": [],
      "source": [
        "class RecommendationHead(nn.Module):\n",
        "    def __init__(self, input_dim, output_dim):\n",
        "        super(RecommendationHead, self).__init__()\n",
        "        self.fc = nn.Linear(input_dim, output_dim)\n",
        "\n",
        "    def forward(self, x):\n",
        "        return self.fc(x)"
      ]
    },
    {
      "cell_type": "code",
      "execution_count": 5,
      "metadata": {},
      "outputs": [],
      "source": [
        "def construct_query_graph(user_id, destination_id, checkin_date, checkout_date, room_cnt, adult_cnt, children_cnt):\n",
        "    query_data = HeteroData()\n",
        "    query_data['user'].x = data['user'].x\n",
        "    query_data['destination'].x = data['destination'].x\n",
        "    query_data['hotel'].x = data['hotel'].x\n",
        "\n",
        "    checkin_date = int(datetime.strptime(checkin_date, '%Y-%m-%d').timestamp())\n",
        "    checkout_date = int(datetime.strptime(checkout_date, '%Y-%m-%d').timestamp())\n",
        "    edge_attr = torch.tensor([[room_cnt, adult_cnt, children_cnt, checkin_date, checkout_date]])\n",
        "    edge_index = torch.tensor([[user_id, destination_id]])\n",
        "    query_data['user', 'has_searched', 'destination'].edge_index = torch.tensor(edge_index, dtype=torch.int64).T\n",
        "    query_data['user', 'has_searched', 'destination'].edge_attr = torch.tensor(edge_attr, dtype=torch.int64)\n",
        "\n",
        "    l = []\n",
        "    for i, d in enumerate(data['destination', 'has_hotel', 'hotel']['edge_index'][0]):\n",
        "        if d == destination_id:\n",
        "            l.append([d, data['destination', 'has_hotel', 'hotel']['edge_index'][1][i]])\n",
        "    l = torch.tensor(l).T\n",
        "\n",
        "    query_data['destination', 'has_hotel', 'hotel'].edge_index = l\n",
        "\n",
        "    h = []\n",
        "    for i, u in enumerate(data['user', 'has_booked', 'hotel']['edge_index'][0]):\n",
        "        if u == user_id:\n",
        "            h.append([u, data['user', 'has_booked', 'hotel']['edge_index'][1][i]])\n",
        "    h = torch.tensor(h).T\n",
        "\n",
        "    query_data['user', 'has_booked', 'hotel'].edge_index = h\n",
        "\n",
        "    return query_data"
      ]
    },
    {
      "cell_type": "code",
      "execution_count": 6,
      "metadata": {},
      "outputs": [],
      "source": [
        "def recommend_hotels(user_id, destination_id, checkin_date, checkout_date, room_cnt=1, adult_cnt=1, children_cnt=0):\n",
        "    gnn_model = GNNModel(8, 8)  # New instance of the model\n",
        "    recommendation_head = RecommendationHead(8, 1)  # New instance of the recommendation head\n",
        "\n",
        "    gnn_model.eval()\n",
        "    recommendation_head.eval()\n",
        "\n",
        "    query_graph = construct_query_graph(user_id, destination_id, checkin_date, checkout_date, room_cnt, adult_cnt, children_cnt)\n",
        "\n",
        "    with torch.no_grad():\n",
        "        node_representations_target = gnn_model(query_graph)\n",
        "        predictions = recommendation_head(node_representations_target)\n",
        "\n",
        "    k = 7\n",
        "    top_predictions, top_indices = torch.topk(predictions, k, dim=0, largest=True)\n",
        "    return top_predictions, top_indices"
      ]
    },
    {
      "cell_type": "code",
      "execution_count": 7,
      "metadata": {},
      "outputs": [
        {
          "name": "stderr",
          "output_type": "stream",
          "text": [
            "/Users/ravranja6/opt/anaconda3/envs/langchain-1/lib/python3.11/site-packages/torch_geometric/nn/conv/hetero_conv.py:76: UserWarning: There exist node types ({'user'}) whose representations do not get updated during message passing as they do not occur as destination type in any edge type. This may lead to unexpected behavior.\n",
            "  warnings.warn(\n",
            "/var/folders/tb/hsmdnsw10_xgwhg6wc11dxgm0000gn/T/ipykernel_93823/1377356286.py:11: UserWarning: To copy construct from a tensor, it is recommended to use sourceTensor.clone().detach() or sourceTensor.clone().detach().requires_grad_(True), rather than torch.tensor(sourceTensor).\n",
            "  query_data['user', 'has_searched', 'destination'].edge_index = torch.tensor(edge_index, dtype=torch.int64).T\n",
            "/var/folders/tb/hsmdnsw10_xgwhg6wc11dxgm0000gn/T/ipykernel_93823/1377356286.py:12: UserWarning: To copy construct from a tensor, it is recommended to use sourceTensor.clone().detach() or sourceTensor.clone().detach().requires_grad_(True), rather than torch.tensor(sourceTensor).\n",
            "  query_data['user', 'has_searched', 'destination'].edge_attr = torch.tensor(edge_attr, dtype=torch.int64)\n"
          ]
        }
      ],
      "source": [
        "destination_id = 54\n",
        "user_id = 820\n",
        "checkin_date = \"2023-06-13\"\n",
        "checkout_date = \"2023-06-15\"\n",
        "room_cnt = 2\n",
        "adult_cnt = 2\n",
        "children_cnt = 0\n",
        "top_predictions, top_indices = recommend_hotels(user_id, destination_id, checkin_date, checkout_date, room_cnt, adult_cnt, children_cnt)"
      ]
    },
    {
      "cell_type": "code",
      "execution_count": 8,
      "metadata": {},
      "outputs": [
        {
          "name": "stdout",
          "output_type": "stream",
          "text": [
            "tensor([[1008],\n",
            "        [1011],\n",
            "        [1009],\n",
            "        [1012],\n",
            "        [1010],\n",
            "        [1014],\n",
            "        [3452]])\n",
            "[1008, 1011, 1009, 1012, 1010, 1014, 3452]\n"
          ]
        }
      ],
      "source": [
        "print(top_indices)\n",
        "rec_hotel = top_indices.tolist()\n",
        "rec_hotel = [i[0] for i in rec_hotel]\n",
        "print(rec_hotel)"
      ]
    },
    {
      "cell_type": "code",
      "execution_count": 14,
      "metadata": {},
      "outputs": [
        {
          "name": "stdout",
          "output_type": "stream",
          "text": [
            "[[tensor(54), tensor(57)]]\n"
          ]
        }
      ],
      "source": [
        "lst = []\n",
        "for i, d in enumerate(data['destination', 'has_hotel', 'hotel']['edge_index'][0]):\n",
        "    if d == 54:\n",
        "        lst.append([d, data['destination', 'has_hotel', 'hotel']['edge_index'][1][i]])\n",
        "\n",
        "print(lst)"
      ]
    }
  ],
  "metadata": {
    "colab": {
      "provenance": []
    },
    "kernelspec": {
      "display_name": "Python 3",
      "name": "python3"
    },
    "language_info": {
      "codemirror_mode": {
        "name": "ipython",
        "version": 3
      },
      "file_extension": ".py",
      "mimetype": "text/x-python",
      "name": "python",
      "nbconvert_exporter": "python",
      "pygments_lexer": "ipython3",
      "version": "3.11.8"
    }
  },
  "nbformat": 4,
  "nbformat_minor": 0
}
