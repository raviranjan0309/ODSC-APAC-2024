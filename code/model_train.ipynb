{
  "cells": [
    {
      "cell_type": "code",
      "execution_count": 3,
      "metadata": {
        "colab": {
          "base_uri": "https://localhost:8080/"
        },
        "id": "vnl8G4jhOn0N",
        "outputId": "6ca7454e-2309-4283-80c5-9c362fe3d58d"
      },
      "outputs": [
        {
          "name": "stdout",
          "output_type": "stream",
          "text": [
            "Requirement already satisfied: torch_geometric in /Users/ravranja6/opt/anaconda3/envs/langchain-1/lib/python3.11/site-packages (2.5.3)\n",
            "Collecting torch\n",
            "  Using cached torch-2.2.2-cp311-none-macosx_10_9_x86_64.whl.metadata (25 kB)\n",
            "Requirement already satisfied: tqdm in /Users/ravranja6/opt/anaconda3/envs/langchain-1/lib/python3.11/site-packages (from torch_geometric) (4.66.2)\n",
            "Requirement already satisfied: numpy in /Users/ravranja6/opt/anaconda3/envs/langchain-1/lib/python3.11/site-packages (from torch_geometric) (1.26.4)\n",
            "Requirement already satisfied: scipy in /Users/ravranja6/opt/anaconda3/envs/langchain-1/lib/python3.11/site-packages (from torch_geometric) (1.12.0)\n",
            "Requirement already satisfied: fsspec in /Users/ravranja6/opt/anaconda3/envs/langchain-1/lib/python3.11/site-packages (from torch_geometric) (2024.6.1)\n",
            "Requirement already satisfied: jinja2 in /Users/ravranja6/opt/anaconda3/envs/langchain-1/lib/python3.11/site-packages (from torch_geometric) (3.1.4)\n",
            "Requirement already satisfied: aiohttp in /Users/ravranja6/opt/anaconda3/envs/langchain-1/lib/python3.11/site-packages (from torch_geometric) (3.9.3)\n",
            "Requirement already satisfied: requests in /Users/ravranja6/opt/anaconda3/envs/langchain-1/lib/python3.11/site-packages (from torch_geometric) (2.31.0)\n",
            "Requirement already satisfied: pyparsing in /Users/ravranja6/opt/anaconda3/envs/langchain-1/lib/python3.11/site-packages (from torch_geometric) (3.1.2)\n",
            "Requirement already satisfied: scikit-learn in /Users/ravranja6/opt/anaconda3/envs/langchain-1/lib/python3.11/site-packages (from torch_geometric) (1.5.1)\n",
            "Requirement already satisfied: psutil>=5.8.0 in /Users/ravranja6/opt/anaconda3/envs/langchain-1/lib/python3.11/site-packages (from torch_geometric) (5.9.8)\n",
            "Collecting filelock (from torch)\n",
            "  Using cached filelock-3.15.4-py3-none-any.whl.metadata (2.9 kB)\n",
            "Requirement already satisfied: typing-extensions>=4.8.0 in /Users/ravranja6/opt/anaconda3/envs/langchain-1/lib/python3.11/site-packages (from torch) (4.10.0)\n",
            "Collecting sympy (from torch)\n",
            "  Downloading sympy-1.13.2-py3-none-any.whl.metadata (12 kB)\n",
            "Requirement already satisfied: networkx in /Users/ravranja6/opt/anaconda3/envs/langchain-1/lib/python3.11/site-packages (from torch) (3.3)\n",
            "Requirement already satisfied: aiosignal>=1.1.2 in /Users/ravranja6/opt/anaconda3/envs/langchain-1/lib/python3.11/site-packages (from aiohttp->torch_geometric) (1.3.1)\n",
            "Requirement already satisfied: attrs>=17.3.0 in /Users/ravranja6/opt/anaconda3/envs/langchain-1/lib/python3.11/site-packages (from aiohttp->torch_geometric) (23.2.0)\n",
            "Requirement already satisfied: frozenlist>=1.1.1 in /Users/ravranja6/opt/anaconda3/envs/langchain-1/lib/python3.11/site-packages (from aiohttp->torch_geometric) (1.4.1)\n",
            "Requirement already satisfied: multidict<7.0,>=4.5 in /Users/ravranja6/opt/anaconda3/envs/langchain-1/lib/python3.11/site-packages (from aiohttp->torch_geometric) (6.0.5)\n",
            "Requirement already satisfied: yarl<2.0,>=1.0 in /Users/ravranja6/opt/anaconda3/envs/langchain-1/lib/python3.11/site-packages (from aiohttp->torch_geometric) (1.9.4)\n",
            "Requirement already satisfied: MarkupSafe>=2.0 in /Users/ravranja6/opt/anaconda3/envs/langchain-1/lib/python3.11/site-packages (from jinja2->torch_geometric) (2.1.5)\n",
            "Requirement already satisfied: charset-normalizer<4,>=2 in /Users/ravranja6/opt/anaconda3/envs/langchain-1/lib/python3.11/site-packages (from requests->torch_geometric) (3.3.2)\n",
            "Requirement already satisfied: idna<4,>=2.5 in /Users/ravranja6/opt/anaconda3/envs/langchain-1/lib/python3.11/site-packages (from requests->torch_geometric) (3.6)\n",
            "Requirement already satisfied: urllib3<3,>=1.21.1 in /Users/ravranja6/opt/anaconda3/envs/langchain-1/lib/python3.11/site-packages (from requests->torch_geometric) (2.2.1)\n",
            "Requirement already satisfied: certifi>=2017.4.17 in /Users/ravranja6/opt/anaconda3/envs/langchain-1/lib/python3.11/site-packages (from requests->torch_geometric) (2024.2.2)\n",
            "Requirement already satisfied: joblib>=1.2.0 in /Users/ravranja6/opt/anaconda3/envs/langchain-1/lib/python3.11/site-packages (from scikit-learn->torch_geometric) (1.4.2)\n",
            "Requirement already satisfied: threadpoolctl>=3.1.0 in /Users/ravranja6/opt/anaconda3/envs/langchain-1/lib/python3.11/site-packages (from scikit-learn->torch_geometric) (3.5.0)\n",
            "Collecting mpmath<1.4,>=1.1.0 (from sympy->torch)\n",
            "  Using cached mpmath-1.3.0-py3-none-any.whl.metadata (8.6 kB)\n",
            "Using cached torch-2.2.2-cp311-none-macosx_10_9_x86_64.whl (150.8 MB)\n",
            "Using cached filelock-3.15.4-py3-none-any.whl (16 kB)\n",
            "Downloading sympy-1.13.2-py3-none-any.whl (6.2 MB)\n",
            "\u001b[2K   \u001b[90m━━━━━━━━━━━━━━━━━━━━━━━━━━━━━━━━━━━━━━━━\u001b[0m \u001b[32m6.2/6.2 MB\u001b[0m \u001b[31m17.9 MB/s\u001b[0m eta \u001b[36m0:00:00\u001b[0ma \u001b[36m0:00:01\u001b[0m\n",
            "\u001b[?25hUsing cached mpmath-1.3.0-py3-none-any.whl (536 kB)\n",
            "Installing collected packages: mpmath, sympy, filelock, torch\n",
            "Successfully installed filelock-3.15.4 mpmath-1.3.0 sympy-1.13.2 torch-2.2.2\n"
          ]
        }
      ],
      "source": [
        "!pip install torch_geometric torch\n"
      ]
    },
    {
      "cell_type": "code",
      "execution_count": 2,
      "metadata": {
        "id": "-Z21wNSvOqGY"
      },
      "outputs": [],
      "source": [
        "import pandas as pd\n",
        "from datetime import datetime\n",
        "import networkx as nx\n",
        "import torch\n",
        "import torch.nn as nn\n",
        "import torch.optim as optim\n",
        "from torch_geometric.nn import GATConv\n",
        "from torch_geometric.data import HeteroData\n",
        "from torch_geometric.data import Data\n",
        "from torch_geometric.transforms import RandomLinkSplit\n",
        "from torch_geometric.nn import HeteroConv, GCNConv, SAGEConv, GATConv, Linear\n",
        "import torch_geometric.transforms as T\n",
        "from sklearn.preprocessing import StandardScaler"
      ]
    },
    {
      "cell_type": "code",
      "execution_count": 5,
      "metadata": {
        "id": "0P_KSeKdOvBr"
      },
      "outputs": [],
      "source": [
        "# Load the HeteroData object from the file\n",
        "loaded_data = torch.load('hetero_data_final.pt')"
      ]
    },
    {
      "cell_type": "code",
      "execution_count": 6,
      "metadata": {
        "colab": {
          "base_uri": "https://localhost:8080/"
        },
        "id": "ooVf92ncO0OI",
        "outputId": "7bb96d21-8495-4601-a8c0-ccc402ef9351"
      },
      "outputs": [
        {
          "data": {
            "text/plain": [
              "HeteroData(\n",
              "  y=[11771],\n",
              "  user={ x=[35954, 2] },\n",
              "  destination={ x=[5477, 3] },\n",
              "  hotel={ x=[11771, 6] },\n",
              "  city={ x=[6919, 2] },\n",
              "  country={ x=[174, 2] },\n",
              "  region={ x=[665, 2] },\n",
              "  channel={ x=[11, 2] },\n",
              "  (user, has_searched, destination)={\n",
              "    edge_index=[2, 37349],\n",
              "    edge_attr=[37349, 5],\n",
              "  },\n",
              "  (user, has_booked, hotel)={\n",
              "    edge_index=[2, 37571],\n",
              "    edge_attr=[37571, 10],\n",
              "  },\n",
              "  (destination, has_hotel, hotel)={\n",
              "    edge_index=[2, 18262],\n",
              "    edge_attr=[18262, 0],\n",
              "  }\n",
              ")"
            ]
          },
          "execution_count": 6,
          "metadata": {},
          "output_type": "execute_result"
        }
      ],
      "source": [
        "loaded_data"
      ]
    },
    {
      "cell_type": "code",
      "execution_count": 7,
      "metadata": {
        "colab": {
          "base_uri": "https://localhost:8080/"
        },
        "id": "JdbpSnnKpiZs",
        "outputId": "d1426919-c16a-4e6a-9789-526ebea06a78"
      },
      "outputs": [
        {
          "data": {
            "text/plain": [
              "tensor([0.0000, 0.2000, 0.0000,  ..., 0.0000, 0.0000, 0.0000])"
            ]
          },
          "execution_count": 7,
          "metadata": {},
          "output_type": "execute_result"
        }
      ],
      "source": [
        "loaded_data.y"
      ]
    },
    {
      "cell_type": "code",
      "execution_count": 8,
      "metadata": {
        "colab": {
          "base_uri": "https://localhost:8080/",
          "height": 472
        },
        "id": "3gT5Tky-nN02",
        "outputId": "0c041735-1d7a-4b6f-9d3a-5b1d8460d092"
      },
      "outputs": [
        {
          "data": {
            "image/png": "[encoded data removed]",
            "text/plain": [
              "<Figure size 640x480 with 1 Axes>"
            ]
          },
          "metadata": {},
          "output_type": "display_data"
        }
      ],
      "source": [
        "import matplotlib.pyplot as plt\n",
        "\n",
        "# Assuming your tensor is named 'tensor_data'\n",
        "tensor_data = loaded_data.y\n",
        "\n",
        "# Convert the tensor to a numpy array for plotting\n",
        "data_array = tensor_data.numpy()\n",
        "\n",
        "# Plot the distribution\n",
        "plt.hist(data_array, bins=20)  # Adjust the number of bins as per your preference\n",
        "plt.xlabel('Values')\n",
        "plt.ylabel('Frequency')\n",
        "plt.title('Distribution of Tensor Data')\n",
        "plt.show()\n"
      ]
    },
    {
      "cell_type": "code",
      "execution_count": 9,
      "metadata": {
        "id": "MzJC8HDJXNk8"
      },
      "outputs": [],
      "source": [
        "transform = T.RandomLinkSplit(\n",
        "    num_val=0.1,\n",
        "    num_test=0.1,\n",
        "    disjoint_train_ratio=0.3,\n",
        "    neg_sampling_ratio=2.0,\n",
        "    add_negative_train_samples=False,\n",
        "    edge_types=[(\"user\", \"has_searched\", \"destination\"),(\"destination\",\"has_hotel\",\"hotel\")],\n",
        "\n",
        ")\n",
        "train_data, val_data, test_data = transform(loaded_data)"
      ]
    },
    {
      "cell_type": "code",
      "execution_count": 10,
      "metadata": {
        "colab": {
          "base_uri": "https://localhost:8080/"
        },
        "id": "wt-myMMuX_F5",
        "outputId": "f92efeb3-d879-4e21-fd93-4a1def312439"
      },
      "outputs": [
        {
          "data": {
            "text/plain": [
              "HeteroData(\n",
              "  y=[11771],\n",
              "  user={ x=[35954, 2] },\n",
              "  destination={ x=[5477, 3] },\n",
              "  hotel={ x=[11771, 6] },\n",
              "  city={ x=[6919, 2] },\n",
              "  country={ x=[174, 2] },\n",
              "  region={ x=[665, 2] },\n",
              "  channel={ x=[11, 2] },\n",
              "  (user, has_searched, destination)={\n",
              "    edge_index=[2, 20917],\n",
              "    edge_attr=[20917, 5],\n",
              "    edge_label=[8964],\n",
              "    edge_label_index=[2, 8964],\n",
              "  },\n",
              "  (user, has_booked, hotel)={\n",
              "    edge_index=[2, 37571],\n",
              "    edge_attr=[37571, 10],\n",
              "  },\n",
              "  (destination, has_hotel, hotel)={\n",
              "    edge_index=[2, 10227],\n",
              "    edge_attr=[10227, 0],\n",
              "    edge_label=[4383],\n",
              "    edge_label_index=[2, 4383],\n",
              "  }\n",
              ")"
            ]
          },
          "execution_count": 10,
          "metadata": {},
          "output_type": "execute_result"
        }
      ],
      "source": [
        "train_data"
      ]
    },
    {
      "cell_type": "code",
      "execution_count": 11,
      "metadata": {
        "colab": {
          "base_uri": "https://localhost:8080/"
        },
        "id": "eh8N6znPYHuU",
        "outputId": "e0055f9d-f61e-4998-ea23-9e482e1fb7e7"
      },
      "outputs": [
        {
          "data": {
            "text/plain": [
              "HeteroData(\n",
              "  y=[11771],\n",
              "  user={ x=[35954, 2] },\n",
              "  destination={ x=[5477, 3] },\n",
              "  hotel={ x=[11771, 6] },\n",
              "  city={ x=[6919, 2] },\n",
              "  country={ x=[174, 2] },\n",
              "  region={ x=[665, 2] },\n",
              "  channel={ x=[11, 2] },\n",
              "  (user, has_searched, destination)={\n",
              "    edge_index=[2, 29881],\n",
              "    edge_attr=[29881, 5],\n",
              "    edge_label=[11202],\n",
              "    edge_label_index=[2, 11202],\n",
              "  },\n",
              "  (user, has_booked, hotel)={\n",
              "    edge_index=[2, 37571],\n",
              "    edge_attr=[37571, 10],\n",
              "  },\n",
              "  (destination, has_hotel, hotel)={\n",
              "    edge_index=[2, 14610],\n",
              "    edge_attr=[14610, 0],\n",
              "    edge_label=[5478],\n",
              "    edge_label_index=[2, 5478],\n",
              "  }\n",
              ")"
            ]
          },
          "execution_count": 11,
          "metadata": {},
          "output_type": "execute_result"
        }
      ],
      "source": [
        "val_data"
      ]
    },
    {
      "cell_type": "code",
      "execution_count": 12,
      "metadata": {
        "id": "T_hNfzkJQe4T"
      },
      "outputs": [],
      "source": [
        "data=loaded_data"
      ]
    },
    {
      "cell_type": "code",
      "execution_count": 13,
      "metadata": {
        "colab": {
          "base_uri": "https://localhost:8080/"
        },
        "id": "kr-RvuNgNeSC",
        "outputId": "f458710f-60e4-4bb3-b142-a1909ec3f2ca"
      },
      "outputs": [
        {
          "data": {
            "text/plain": [
              "{'x': tensor([[    0,     4,  1241,    50,     2,    15],\n",
              "        [ 2072,    72,  1241,    50,     2,    15],\n",
              "        [ 3037,    39,  1241,    50,     2,    15],\n",
              "        ...,\n",
              "        [37522,    29,  1013,   144,     6,     4],\n",
              "        [37558,    82,   797,   126,     3,    15],\n",
              "        [37598,    50,   435,    50,     2,    25]])}"
            ]
          },
          "execution_count": 13,
          "metadata": {},
          "output_type": "execute_result"
        }
      ],
      "source": [
        "data['hotel']"
      ]
    },
    {
      "cell_type": "code",
      "execution_count": 14,
      "metadata": {
        "colab": {
          "base_uri": "https://localhost:8080/"
        },
        "id": "xqsOYlNlYQj2",
        "outputId": "f6f3209e-e1d8-4ac2-fa32-6599b34dd107"
      },
      "outputs": [
        {
          "data": {
            "text/plain": [
              "(['user', 'destination', 'hotel', 'city', 'country', 'region', 'channel'],\n",
              " [('user', 'has_searched', 'destination'),\n",
              "  ('user', 'has_booked', 'hotel'),\n",
              "  ('destination', 'has_hotel', 'hotel')])"
            ]
          },
          "execution_count": 14,
          "metadata": {},
          "output_type": "execute_result"
        }
      ],
      "source": [
        "data.metadata()"
      ]
    },
    {
      "cell_type": "code",
      "execution_count": 15,
      "metadata": {
        "colab": {
          "base_uri": "https://localhost:8080/"
        },
        "id": "XpkhCAsRYUUJ",
        "outputId": "ccb39043-5bd2-4684-91cf-21f0a89182d7"
      },
      "outputs": [
        {
          "name": "stdout",
          "output_type": "stream",
          "text": [
            "['user', 'destination', 'hotel', 'city', 'country', 'region', 'channel']\n",
            "[('user', 'has_searched', 'destination'), ('user', 'has_booked', 'hotel'), ('destination', 'has_hotel', 'hotel')]\n"
          ]
        }
      ],
      "source": [
        "node_types, edge_types = data.metadata()\n",
        "print(node_types)\n",
        "print(edge_types)"
      ]
    },
    {
      "cell_type": "code",
      "execution_count": 16,
      "metadata": {
        "colab": {
          "base_uri": "https://localhost:8080/"
        },
        "id": "-7zi6XSLZj9z",
        "outputId": "32cc805a-e40d-46fc-9e4a-d7e25c50bee7"
      },
      "outputs": [
        {
          "data": {
            "text/plain": [
              "60971"
            ]
          },
          "execution_count": 16,
          "metadata": {},
          "output_type": "execute_result"
        }
      ],
      "source": [
        "num_nodes = data.num_nodes\n",
        "num_nodes"
      ]
    },
    {
      "cell_type": "code",
      "execution_count": 17,
      "metadata": {
        "colab": {
          "base_uri": "https://localhost:8080/"
        },
        "id": "2hfEjZMOSN-S",
        "outputId": "2ca63981-cd4c-49a5-c92e-a492cbd70d15"
      },
      "outputs": [
        {
          "data": {
            "text/plain": [
              "torch.Size([11771, 6])"
            ]
          },
          "execution_count": 17,
          "metadata": {},
          "output_type": "execute_result"
        }
      ],
      "source": [
        "data.x_dict['hotel'].shape"
      ]
    },
    {
      "cell_type": "code",
      "execution_count": 18,
      "metadata": {
        "id": "m4lN3wOvaRlb"
      },
      "outputs": [],
      "source": [
        "import torch\n",
        "\n",
        "class GNNModel(nn.Module):\n",
        "    def __init__(self, hidden_dim,num_layers):\n",
        "        super(GNNModel, self).__init__()\n",
        "        self.conv = torch.nn.ModuleList()\n",
        "\n",
        "        for _ in range(num_layers):\n",
        "            conv = HeteroConv({\n",
        "                ('user', 'has_searched', 'destination'): GATConv((-1, -1), hidden_dim, add_self_loops=False),\n",
        "                ('destination', 'has_hotel', 'hotel'): SAGEConv((-1, -1), hidden_dim, add_self_loops=False),\n",
        "                # ('user', 'has_booked', 'hotel'): SAGEConv((-1, -1), hidden_dim, add_self_loops=False),\n",
        "            }, aggr='sum')\n",
        "            self.conv.append(conv)\n",
        "\n",
        "    def forward(self, data):\n",
        "        for conv in self.conv:\n",
        "          # Convert node features to the appropriate data type\n",
        "          x_dict = {key: value.to(torch.float32) for key, value in data.x_dict.items()}\n",
        "          # Convert edge indices to the appropriate data type\n",
        "          edge_index_dict = {key: value.to(torch.long) for key, value in data.edge_index_dict.items()}\n",
        "          # print(x_dict['hotel'].shape)\n",
        "\n",
        "          x_dict = conv(x_dict, edge_index_dict)\n",
        "        return x_dict['hotel']\n"
      ]
    },
    {
      "cell_type": "code",
      "execution_count": 19,
      "metadata": {
        "id": "BZHtBjrYWok2"
      },
      "outputs": [],
      "source": [
        "def compute_personalized_ranking(hotel_representations, y):\n",
        "    # Sort the hotels based on the y values\n",
        "    sorted_indices = torch.argsort(y, descending=True)\n",
        "    personalized_ranking = hotel_representations[sorted_indices]\n",
        "    return personalized_ranking\n"
      ]
    },
    {
      "cell_type": "code",
      "execution_count": 20,
      "metadata": {
        "id": "18l7SyAbYPjW"
      },
      "outputs": [],
      "source": [
        "# Step 4: Define Recommendation Head\n",
        "class RecommendationHead(nn.Module):\n",
        "    def __init__(self, input_dim, output_dim):\n",
        "        super(RecommendationHead, self).__init__()\n",
        "        self.fc = nn.Linear(input_dim, output_dim)\n",
        "\n",
        "    def forward(self, x):\n",
        "        return self.fc(x)\n"
      ]
    },
    {
      "cell_type": "code",
      "execution_count": 21,
      "metadata": {
        "id": "5-Z_qosKe6p4"
      },
      "outputs": [],
      "source": [
        "output_dim=1"
      ]
    },
    {
      "cell_type": "code",
      "execution_count": 22,
      "metadata": {
        "id": "lEZm1RAye-K_"
      },
      "outputs": [],
      "source": [
        "num_epochs=100"
      ]
    },
    {
      "cell_type": "code",
      "execution_count": 23,
      "metadata": {
        "id": "v7JIk5bJVZCb"
      },
      "outputs": [],
      "source": [
        "from torch_geometric.nn import GATConv, Linear, to_hetero\n",
        "import torch.nn.functional as F\n",
        "from torch.utils.data import DataLoader\n"
      ]
    },
    {
      "cell_type": "code",
      "execution_count": null,
      "metadata": {
        "colab": {
          "base_uri": "https://localhost:8080/"
        },
        "id": "pwSFa-g6U0iR",
        "outputId": "f75633a7-4f3b-4cb3-cd0a-8f461250f06b"
      },
      "outputs": [
        {
          "name": "stderr",
          "output_type": "stream",
          "text": [
            "/usr/local/lib/python3.10/dist-packages/torch_geometric/nn/conv/hetero_conv.py:62: UserWarning: There exist node types ({'user'}) whose representations do not get updated during message passing as they do not occur as destination type in any edge type. This may lead to unexpected behavior.\n",
            "  warnings.warn(\n"
          ]
        },
        {
          "name": "stdout",
          "output_type": "stream",
          "text": [
            "tensor(0.4919, grad_fn=<MseLossBackward0>)\n",
            "tensor(0.4542, grad_fn=<MseLossBackward0>)\n",
            "tensor(0.4137, grad_fn=<MseLossBackward0>)\n",
            "tensor(0.3706, grad_fn=<MseLossBackward0>)\n",
            "tensor(0.3253, grad_fn=<MseLossBackward0>)\n",
            "tensor(0.2791, grad_fn=<MseLossBackward0>)\n",
            "tensor(0.2350, grad_fn=<MseLossBackward0>)\n",
            "tensor(0.1942, grad_fn=<MseLossBackward0>)\n",
            "tensor(0.1577, grad_fn=<MseLossBackward0>)\n",
            "tensor(0.1357, grad_fn=<MseLossBackward0>)\n",
            "tensor(0.1214, grad_fn=<MseLossBackward0>)\n",
            "tensor(0.1114, grad_fn=<MseLossBackward0>)\n",
            "tensor(0.1041, grad_fn=<MseLossBackward0>)\n",
            "tensor(0.0985, grad_fn=<MseLossBackward0>)\n",
            "tensor(0.0941, grad_fn=<MseLossBackward0>)\n",
            "tensor(0.0906, grad_fn=<MseLossBackward0>)\n",
            "tensor(0.0877, grad_fn=<MseLossBackward0>)\n",
            "tensor(0.0852, grad_fn=<MseLossBackward0>)\n",
            "tensor(0.0832, grad_fn=<MseLossBackward0>)\n",
            "tensor(0.0814, grad_fn=<MseLossBackward0>)\n",
            "tensor(0.0798, grad_fn=<MseLossBackward0>)\n",
            "tensor(0.0784, grad_fn=<MseLossBackward0>)\n",
            "tensor(0.0772, grad_fn=<MseLossBackward0>)\n",
            "tensor(0.0761, grad_fn=<MseLossBackward0>)\n",
            "tensor(0.0752, grad_fn=<MseLossBackward0>)\n",
            "tensor(0.0744, grad_fn=<MseLossBackward0>)\n",
            "tensor(0.0737, grad_fn=<MseLossBackward0>)\n",
            "tensor(0.0731, grad_fn=<MseLossBackward0>)\n",
            "tensor(0.0726, grad_fn=<MseLossBackward0>)\n",
            "tensor(0.0721, grad_fn=<MseLossBackward0>)\n",
            "tensor(0.0717, grad_fn=<MseLossBackward0>)\n",
            "tensor(0.0713, grad_fn=<MseLossBackward0>)\n",
            "tensor(0.0710, grad_fn=<MseLossBackward0>)\n",
            "tensor(0.0707, grad_fn=<MseLossBackward0>)\n",
            "tensor(0.0705, grad_fn=<MseLossBackward0>)\n",
            "tensor(0.0702, grad_fn=<MseLossBackward0>)\n",
            "tensor(0.0700, grad_fn=<MseLossBackward0>)\n",
            "tensor(0.0699, grad_fn=<MseLossBackward0>)\n",
            "tensor(0.0697, grad_fn=<MseLossBackward0>)\n",
            "tensor(0.0696, grad_fn=<MseLossBackward0>)\n",
            "tensor(0.0695, grad_fn=<MseLossBackward0>)\n",
            "tensor(0.0694, grad_fn=<MseLossBackward0>)\n",
            "tensor(0.0694, grad_fn=<MseLossBackward0>)\n",
            "tensor(0.0693, grad_fn=<MseLossBackward0>)\n",
            "tensor(0.0693, grad_fn=<MseLossBackward0>)\n",
            "tensor(0.0693, grad_fn=<MseLossBackward0>)\n",
            "tensor(0.0692, grad_fn=<MseLossBackward0>)\n",
            "tensor(0.0692, grad_fn=<MseLossBackward0>)\n",
            "tensor(0.0692, grad_fn=<MseLossBackward0>)\n",
            "tensor(0.0692, grad_fn=<MseLossBackward0>)\n",
            "tensor(0.0692, grad_fn=<MseLossBackward0>)\n",
            "tensor(0.0691, grad_fn=<MseLossBackward0>)\n",
            "tensor(0.0691, grad_fn=<MseLossBackward0>)\n",
            "tensor(0.0691, grad_fn=<MseLossBackward0>)\n",
            "tensor(0.0691, grad_fn=<MseLossBackward0>)\n",
            "tensor(0.0691, grad_fn=<MseLossBackward0>)\n",
            "tensor(0.0691, grad_fn=<MseLossBackward0>)\n",
            "tensor(0.0691, grad_fn=<MseLossBackward0>)\n",
            "tensor(0.0691, grad_fn=<MseLossBackward0>)\n",
            "tensor(0.0691, grad_fn=<MseLossBackward0>)\n",
            "tensor(0.0691, grad_fn=<MseLossBackward0>)\n",
            "tensor(0.0691, grad_fn=<MseLossBackward0>)\n",
            "tensor(0.0691, grad_fn=<MseLossBackward0>)\n",
            "tensor(0.0691, grad_fn=<MseLossBackward0>)\n",
            "tensor(0.0691, grad_fn=<MseLossBackward0>)\n",
            "tensor(0.0691, grad_fn=<MseLossBackward0>)\n",
            "tensor(0.0691, grad_fn=<MseLossBackward0>)\n",
            "tensor(0.0690, grad_fn=<MseLossBackward0>)\n",
            "tensor(0.0690, grad_fn=<MseLossBackward0>)\n",
            "tensor(0.0690, grad_fn=<MseLossBackward0>)\n",
            "tensor(0.0690, grad_fn=<MseLossBackward0>)\n",
            "tensor(0.0690, grad_fn=<MseLossBackward0>)\n",
            "tensor(0.0690, grad_fn=<MseLossBackward0>)\n",
            "tensor(0.0690, grad_fn=<MseLossBackward0>)\n",
            "tensor(0.0690, grad_fn=<MseLossBackward0>)\n",
            "tensor(0.0690, grad_fn=<MseLossBackward0>)\n",
            "tensor(0.0690, grad_fn=<MseLossBackward0>)\n",
            "tensor(0.0690, grad_fn=<MseLossBackward0>)\n",
            "tensor(0.0690, grad_fn=<MseLossBackward0>)\n",
            "tensor(0.0690, grad_fn=<MseLossBackward0>)\n",
            "tensor(0.0690, grad_fn=<MseLossBackward0>)\n",
            "tensor(0.0690, grad_fn=<MseLossBackward0>)\n",
            "tensor(0.0690, grad_fn=<MseLossBackward0>)\n",
            "tensor(0.0690, grad_fn=<MseLossBackward0>)\n",
            "tensor(0.0690, grad_fn=<MseLossBackward0>)\n",
            "tensor(0.0690, grad_fn=<MseLossBackward0>)\n",
            "tensor(0.0690, grad_fn=<MseLossBackward0>)\n",
            "tensor(0.0690, grad_fn=<MseLossBackward0>)\n",
            "tensor(0.0690, grad_fn=<MseLossBackward0>)\n",
            "tensor(0.0690, grad_fn=<MseLossBackward0>)\n",
            "tensor(0.0690, grad_fn=<MseLossBackward0>)\n",
            "tensor(0.0690, grad_fn=<MseLossBackward0>)\n",
            "tensor(0.0690, grad_fn=<MseLossBackward0>)\n",
            "tensor(0.0690, grad_fn=<MseLossBackward0>)\n",
            "tensor(0.0690, grad_fn=<MseLossBackward0>)\n",
            "tensor(0.0690, grad_fn=<MseLossBackward0>)\n",
            "tensor(0.0690, grad_fn=<MseLossBackward0>)\n",
            "tensor(0.0690, grad_fn=<MseLossBackward0>)\n",
            "tensor(0.0690, grad_fn=<MseLossBackward0>)\n",
            "tensor(0.0690, grad_fn=<MseLossBackward0>)\n"
          ]
        }
      ],
      "source": [
        "# Step 5: Training and Evaluation\n",
        "\n",
        "# Define the GNN model and recommendation head\n",
        "hidden_dim = 8\n",
        "gnn_model = GNNModel(hidden_dim,8)\n",
        "recommendation_head = RecommendationHead(hidden_dim, output_dim)\n",
        "\n",
        "# Define the loss function and optimizer\n",
        "loss_fn = nn.MSELoss()\n",
        "optimizer = optim.Adam(list(gnn_model.parameters()) + list(recommendation_head.parameters()), lr=0.01)\n",
        "\n",
        "# Training loop\n",
        "for epoch in range(num_epochs):\n",
        "    gnn_model.train()\n",
        "    recommendation_head.train()\n",
        "    optimizer.zero_grad()\n",
        "\n",
        "    # Forward pass\n",
        "    node_representations = gnn_model(train_data)\n",
        "    # predictions = compute_personalized_ranking(node_representations, data.y)\n",
        "    predictions = recommendation_head(node_representations)\n",
        "\n",
        "    predictions = predictions.squeeze()\n",
        "\n",
        "    max_value = torch.max(predictions)\n",
        "    min_value = torch.min(predictions)\n",
        "    predictions = (predictions - min_value) / (max_value - min_value)\n",
        "\n",
        "\n",
        "    # Compute loss\n",
        "    train_data.y=train_data.y.long()\n",
        "    loss = loss_fn(predictions, train_data.y.float())\n",
        "    print(loss)\n",
        "\n",
        "    # Backward pass and optimization\n",
        "    loss.backward()\n",
        "    optimizer.step()\n",
        "\n",
        "    # Validation\n",
        "    gnn_model.eval()\n",
        "    recommendation_head.eval()\n",
        "\n",
        "    with torch.no_grad():\n",
        "        node_representations_val = gnn_model(val_data)\n",
        "        val_predictions = recommendation_head(node_representations_val)\n",
        "        val_predictions = val_predictions.squeeze()\n",
        "        val_max_value = torch.max(val_predictions)\n",
        "        val_min_value = torch.min(val_predictions)\n",
        "        val_predictions = (val_predictions - val_min_value) / (val_max_value - val_min_value)\n",
        "        val_data.y=val_data.y.long()\n",
        "        val_loss = loss_fn(val_predictions, val_data.y.float())"
      ]
    }
  ],
  "metadata": {
    "colab": {
      "provenance": []
    },
    "kernelspec": {
      "display_name": "Python 3",
      "name": "python3"
    },
    "language_info": {
      "codemirror_mode": {
        "name": "ipython",
        "version": 3
      },
      "file_extension": ".py",
      "mimetype": "text/x-python",
      "name": "python",
      "nbconvert_exporter": "python",
      "pygments_lexer": "ipython3",
      "version": "3.11.8"
    }
  },
  "nbformat": 4,
  "nbformat_minor": 0
}
